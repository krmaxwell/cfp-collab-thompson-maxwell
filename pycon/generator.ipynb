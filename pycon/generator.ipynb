{
 "metadata": {
  "name": "",
  "signature": "sha256:7f05f10e643b7b55107b9565e3c7882a105b3db736dc45e53f0e82aff9056bbc"
 },
 "nbformat": 3,
 "nbformat_minor": 0,
 "worksheets": [
  {
   "cells": [
    {
     "cell_type": "heading",
     "level": 1,
     "metadata": {},
     "source": [
      "Practical Generator Example"
     ]
    },
    {
     "cell_type": "markdown",
     "metadata": {},
     "source": [
      "The problem with most of the generator code out there is that it shows you things like \"how to add up all the prime numbers between 1 and infinity.\" I rarely need to do that. I need a real-world example of when a generator might be useful.\n",
      "\n",
      "Now basically, a generator is a function that is able to act like an iterator. I know it's more complicated than that, but I'm trying to understand here. So it's a function that can keep track of its variables from call to call without having to have them passed back in or store them in a global somewhere. I think I have a useful example of using this in the real world."
     ]
    },
    {
     "cell_type": "heading",
     "level": 2,
     "metadata": {},
     "source": [
      "Kevin's Problem"
     ]
    },
    {
     "cell_type": "markdown",
     "metadata": {},
     "source": [
      "I'm working on a project where I wanted to gather statistics about Portable Executables. I wanted to take a random sample of known-good and known-bad files and compare the samples. It seemed easy enough, I just went to my malware collection, grabbed a random sample and processed them. However, not all of the malware samples are valid. For example, the service that I pulled the malware from doesn't distinguish between PE and any other malicious file. So some of my malware is HTML or javascript. And some PE files are so badly formed that they can't be analyzed. From the known good side, some .exe files are actually cached data that Windows makes on the fly and aren't really PE files. So about a third of my random sample was unusable. How get I get a sample of 1000 files which I know are ready for processing?"
     ]
    },
    {
     "cell_type": "heading",
     "level": 2,
     "metadata": {},
     "source": [
      "Without Generators"
     ]
    },
    {
     "cell_type": "markdown",
     "metadata": {},
     "source": [
      "How would we solve this problem without generators? Simple. First I'll do an os.walk to get a list of all the .exe files on my Windows machine. Then I'll use the pefile library to read **EVERY SINGLE ONE OF THEM** to see if it is a valid, readable PE and put that into a list. Then I'll draw random.sample from that cleaned up list. What's the problem?\n",
      "\n",
      "Man it is going to suck waiting for that program to read **EVERY SINGLE .EXE FILE** given that there are about 5,000 on my machine. And I only want 1000. What a waste."
     ]
    },
    {
     "cell_type": "heading",
     "level": 2,
     "metadata": {},
     "source": [
      "with Generators"
     ]
    },
    {
     "cell_type": "markdown",
     "metadata": {},
     "source": [
      "Generators can make this a lot easier for me because they can easily keep track of where they were in a large list. So in this example I'm going to use os.walk to make a list of every file on my Windows machine that ends with .exe. Then I'll send that list to my generator function.\n",
      "\n",
      "The generator is going to random.shuffle the list so that it is in a random order. Then every time **next()** is called on the generator it will pop the top file off the list, test if it is a valid executable and then either return it or pick a new one.\n",
      "\n",
      "My main program wont have to worry about all this testing, the generator is only going to pass clean executable files to it."
     ]
    },
    {
     "cell_type": "code",
     "collapsed": false,
     "input": [
      "import os\n",
      "import random\n",
      "import pefile\n",
      "from pefile import PEFormatError"
     ],
     "language": "python",
     "metadata": {},
     "outputs": [],
     "prompt_number": 13
    },
    {
     "cell_type": "code",
     "collapsed": false,
     "input": [
      "all_exe_files = []\n",
      "\n",
      "for root, dirs, files in os.walk('/Volumes/C'):\n",
      "    for file in files:\n",
      "        if file.endswith('.exe'):\n",
      "            all_exe_files.append(os.path.join(root, file))"
     ],
     "language": "python",
     "metadata": {},
     "outputs": [],
     "prompt_number": 1
    },
    {
     "cell_type": "code",
     "collapsed": false,
     "input": [
      "def benignFiles(inList):\n",
      "    random.shuffle(inList)   # randomize the list of files\n",
      "    for eachFile in inList:\n",
      "        try:\n",
      "            pefile.PE(eachFile)\n",
      "            yield eachFile   # if the file was parsable, send that file name\n",
      "        except PEFormatError:\n",
      "            next\n"
     ],
     "language": "python",
     "metadata": {},
     "outputs": [],
     "prompt_number": 14
    },
    {
     "cell_type": "markdown",
     "metadata": {},
     "source": [
      "Now that I have my generator function built and my list of all executable files on the system, I can write a simple loop to do something with the files and let the generator worry about only handing me files that meet my criteria. Load the generator up with the list of executables, and start calling next()"
     ]
    },
    {
     "cell_type": "code",
     "collapsed": false,
     "input": [
      "for i in range(10):\n",
      "    print next(benignFiles(all_exe_files))"
     ],
     "language": "python",
     "metadata": {},
     "outputs": [
      {
       "output_type": "stream",
       "stream": "stdout",
       "text": [
        "/Volumes/C/Windows/WinSxS/amd64_microsoft-windows-w..for-management-core_31bf3856ad364e35_6.3.9600.17041_none_bb4bf7c280e1392c/WSManHTTPConfig.exe\n",
        "/Volumes/C/Windows/System32/DeviceProperties.exe\n",
        "/Volumes/C/program files/Windows NT/Accessories/wordpad.exe"
       ]
      },
      {
       "output_type": "stream",
       "stream": "stdout",
       "text": [
        "\n",
        "/Volumes/C/Windows/SysWOW64/RMActivate.exe"
       ]
      },
      {
       "output_type": "stream",
       "stream": "stdout",
       "text": [
        "\n",
        "/Volumes/C/Windows/WinSxS/amd64_microsoft-windows-com-surrogate-core_31bf3856ad364e35_6.3.9600.16384_none_25a8f00faa8f185c/dllhost.exe"
       ]
      },
      {
       "output_type": "stream",
       "stream": "stdout",
       "text": [
        "\n",
        "/Volumes/C/Windows/WinSxS/amd64_microsoft-windows-axinstallservice_31bf3856ad364e35_6.3.9600.16391_none_c7b5de2644ef20b7/AxInstUI.exe\n",
        "/Volumes/C/Windows/Microsoft.NET/Framework/v4.0.30319/MSBuild.exe"
       ]
      },
      {
       "output_type": "stream",
       "stream": "stdout",
       "text": [
        "\n",
        "/Volumes/C/Windows/WinSxS/amd64_microsoft-windows-deployment_31bf3856ad364e35_6.3.9600.17031_none_ece04919c11f5309/setupugc.exe"
       ]
      },
      {
       "output_type": "stream",
       "stream": "stdout",
       "text": [
        "\n",
        "/Volumes/C/Windows/SysWOW64/logagent.exe"
       ]
      },
      {
       "output_type": "stream",
       "stream": "stdout",
       "text": [
        "\n",
        "/Volumes/C/Windows/Microsoft.NET/Framework64/v3.0/Windows Communication Foundation/SMConfigInstaller.exe"
       ]
      },
      {
       "output_type": "stream",
       "stream": "stdout",
       "text": [
        "\n"
       ]
      }
     ],
     "prompt_number": 15
    },
    {
     "cell_type": "markdown",
     "metadata": {},
     "source": [
      "All those errors up there are instances where the next file in my shuffled list were not usable for my purposes. My for loop only gets the clean ones to operate on. And since this an iterable like any other I could do something like this if I wanted to work on **ALL** of the valid PE files in my collection\n",
      "\n",
      "```\n",
      "for eachFile in benignFiles(all_exe_files):  \n",
      "   do something\n",
      "```"
     ]
    },
    {
     "cell_type": "code",
     "collapsed": false,
     "input": [],
     "language": "python",
     "metadata": {},
     "outputs": []
    }
   ],
   "metadata": {}
  }
 ]
}